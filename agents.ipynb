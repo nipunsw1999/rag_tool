{
 "cells": [
  {
   "cell_type": "code",
   "execution_count": 85,
   "metadata": {},
   "outputs": [],
   "source": [
    "from dotenv import load_dotenv\n",
    "import os\n",
    "\n",
    "load_dotenv()\n",
    "\n",
    "os.environ[\"OPENAI_API_KEY\"] = os.getenv(\"OPENAI_API_KEY\")\n",
    "os.environ[\"HUGGINGFACEHUB_API_TOKEN\"] = os.getenv(\"HUGGINGFACEHUB_API_TOKEN\")\n",
    "os.environ[\"GOOGLE_API_KEY\"] = os.getenv(\"GOOGLE_API_KEY\")"
   ]
  },
  {
   "cell_type": "code",
   "execution_count": 32,
   "metadata": {},
   "outputs": [],
   "source": [
    "from langchain_community.tools import WikipediaQueryRun\n",
    "from langchain_community.utilities import WikipediaAPIWrapper"
   ]
  },
  {
   "cell_type": "code",
   "execution_count": 47,
   "metadata": {},
   "outputs": [],
   "source": [
    "api_wrapper = WikipediaAPIWrapper(top_k_results=1,doc_content_chars_max=200)\n",
    "wiki_tool = WikipediaQueryRun(api_wrapper=api_wrapper)"
   ]
  },
  {
   "cell_type": "code",
   "execution_count": 49,
   "metadata": {},
   "outputs": [
    {
     "data": {
      "text/plain": [
       "'wikipedia'"
      ]
     },
     "execution_count": 49,
     "metadata": {},
     "output_type": "execute_result"
    }
   ],
   "source": [
    "wiki_tool.name"
   ]
  },
  {
   "cell_type": "code",
   "execution_count": 35,
   "metadata": {},
   "outputs": [],
   "source": [
    "from langchain_community.document_loaders import WebBaseLoader\n",
    "from langchain_community.vectorstores import  FAISS\n",
    "from langchain_openai import OpenAIEmbeddings\n",
    "from langchain_text_splitters import RecursiveCharacterTextSplitter\n",
    "from langchain.embeddings import HuggingFaceEmbeddings"
   ]
  },
  {
   "cell_type": "code",
   "execution_count": 43,
   "metadata": {},
   "outputs": [
    {
     "data": {
      "text/plain": [
       "VectorStoreRetriever(tags=['FAISS', 'HuggingFaceEmbeddings'], vectorstore=<langchain_community.vectorstores.faiss.FAISS object at 0x0000019FEA66DBE0>, search_kwargs={})"
      ]
     },
     "execution_count": 43,
     "metadata": {},
     "output_type": "execute_result"
    }
   ],
   "source": [
    "loader = WebBaseLoader(\"https://docs.smith.langchain.com/\")\n",
    "docs=loader.load()\n",
    "documents = RecursiveCharacterTextSplitter(chunk_size=1000,chunk_overlap=200).split_documents(docs)\n",
    "embeddings = HuggingFaceEmbeddings(model_name=\"sentence-transformers/all-MiniLM-L6-v2\")\n",
    "vectorDB = FAISS.from_documents(documents, embeddings) \n",
    "retriever = vectorDB.as_retriever()\n",
    "retriever"
   ]
  },
  {
   "cell_type": "code",
   "execution_count": null,
   "metadata": {},
   "outputs": [
    {
     "data": {
      "text/plain": [
       "'langsmith_search'"
      ]
     },
     "execution_count": 45,
     "metadata": {},
     "output_type": "execute_result"
    }
   ],
   "source": [
    "from langchain.tools.retriever import create_retriever_tool \n",
    "\n",
    "retriever_tool = create_retriever_tool(\n",
    "    retriever,\n",
    "    \"langsmith_search\",\n",
    "    \"Search for information about LangSmith. For any questions about LangSmith, you must use this tool\",\n",
    ")\n",
    "\n",
    "retriever_tool.name"
   ]
  },
  {
   "cell_type": "code",
   "execution_count": 74,
   "metadata": {},
   "outputs": [
    {
     "data": {
      "text/plain": [
       "'csc_students'"
      ]
     },
     "execution_count": 74,
     "metadata": {},
     "output_type": "execute_result"
    }
   ],
   "source": [
    "\n",
    "loader = WebBaseLoader(\"https://www.csc.jfn.ac.lk/students-csc-15/\")\n",
    "docs=loader.load()\n",
    "\n",
    "text_splitter = RecursiveCharacterTextSplitter(chunk_size=1000, chunk_overlap=200)\n",
    "documents = text_splitter.split_documents(docs)\n",
    "\n",
    "embeddings = HuggingFaceEmbeddings(model_name=\"sentence-transformers/all-MiniLM-L6-v2\")\n",
    "vectorDB = FAISS.from_documents(documents, embeddings) \n",
    "retriever = vectorDB.as_retriever()\n",
    "retriever\n",
    "\n",
    "\n",
    "from langchain.tools.retriever import create_retriever_tool \n",
    "\n",
    "csc_tool = create_retriever_tool(\n",
    "    retriever,\n",
    "    name=\"csc_students\",\n",
    "    description=(\n",
    "        \"Search for information about University of Jaffna Computer Science students. \"\n",
    "        \"For any questions about University of Jaffna Computer Science students, use this tool.\"\n",
    "    ),\n",
    ")\n",
    "\n",
    "csc_tool.name"
   ]
  },
  {
   "cell_type": "code",
   "execution_count": 46,
   "metadata": {},
   "outputs": [
    {
     "data": {
      "text/plain": [
       "'arxiv'"
      ]
     },
     "execution_count": 46,
     "metadata": {},
     "output_type": "execute_result"
    }
   ],
   "source": [
    "# Arxiv Tool\n",
    "from langchain_community.utilities import ArxivAPIWrapper\n",
    "from langchain_community.tools import ArxivQueryRun\n",
    "\n",
    "arxiv_wrapper = ArxivAPIWrapper(top_k_results=1,doc_content_chars_max=200)\n",
    "arxiv=ArxivQueryRun(api_wrapper=arxiv_wrapper)\n",
    "\n",
    "arxiv.name"
   ]
  },
  {
   "cell_type": "code",
   "execution_count": 75,
   "metadata": {},
   "outputs": [],
   "source": [
    "tools = [wiki_tool,arxiv,retriever_tool,csc_tool]"
   ]
  },
  {
   "cell_type": "code",
   "execution_count": 76,
   "metadata": {},
   "outputs": [],
   "source": [
    "from langchain_groq import ChatGroq\n",
    "\n",
    "\n",
    "llm = ChatGroq(model_name=\"llama3-8b-8192\", temperature=0, groq_api_key=os.getenv(\"GROQ_API_KEY\"))"
   ]
  },
  {
   "cell_type": "code",
   "execution_count": 86,
   "metadata": {},
   "outputs": [],
   "source": [
    "from langchain_google_genai import ChatGoogleGenerativeAI\n",
    "\n",
    "\n",
    "llm = ChatGoogleGenerativeAI(model=\"gemini-2.0-flash\", temperature=0)"
   ]
  },
  {
   "cell_type": "code",
   "execution_count": 87,
   "metadata": {},
   "outputs": [
    {
     "name": "stderr",
     "output_type": "stream",
     "text": [
      "c:\\Users\\Nipun Weerasinghe\\Desktop\\doing_projects\\venv\\Lib\\site-packages\\langsmith\\client.py:253: LangSmithMissingAPIKeyWarning: API key must be provided when using hosted LangSmith API\n",
      "  warnings.warn(\n"
     ]
    },
    {
     "data": {
      "text/plain": [
       "[SystemMessagePromptTemplate(prompt=PromptTemplate(input_variables=[], input_types={}, partial_variables={}, template='You are a helpful assistant'), additional_kwargs={}),\n",
       " MessagesPlaceholder(variable_name='chat_history', optional=True),\n",
       " HumanMessagePromptTemplate(prompt=PromptTemplate(input_variables=['input'], input_types={}, partial_variables={}, template='{input}'), additional_kwargs={}),\n",
       " MessagesPlaceholder(variable_name='agent_scratchpad')]"
      ]
     },
     "execution_count": 87,
     "metadata": {},
     "output_type": "execute_result"
    }
   ],
   "source": [
    "from langchain import hub\n",
    "\n",
    "prompt = hub.pull(\"hwchase17/openai-functions-agent\")\n",
    "prompt.messages"
   ]
  },
  {
   "cell_type": "code",
   "execution_count": 88,
   "metadata": {},
   "outputs": [],
   "source": [
    "# Agents\n",
    "\n",
    "from langchain.agents import create_openai_tools_agent\n",
    "\n",
    "agent = create_openai_tools_agent(llm,tools,prompt)"
   ]
  },
  {
   "cell_type": "code",
   "execution_count": 89,
   "metadata": {},
   "outputs": [],
   "source": [
    "## Agent Executer\n",
    "\n",
    "from langchain.agents import AgentExecutor\n",
    "\n",
    "agent_executer = AgentExecutor(agent=agent,tools=tools,verbose=True)"
   ]
  },
  {
   "cell_type": "code",
   "execution_count": 90,
   "metadata": {},
   "outputs": [
    {
     "name": "stdout",
     "output_type": "stream",
     "text": [
      "\n",
      "\n",
      "\u001b[1m> Entering new AgentExecutor chain...\u001b[0m\n",
      "\u001b[32;1m\u001b[1;3m\n",
      "Invoking: `csc_students` with `{'query': 'University of Jaffna Computer Science students names Academic Year: 2019/2020'}`\n",
      "\n",
      "\n",
      "\u001b[0m\u001b[36;1m\u001b[1;3mStudents-CSC-15 – Department of Computer Science\n",
      "\n",
      "\n",
      "\n",
      "\n",
      "\n",
      "\n",
      "\n",
      "\n",
      "\n",
      "\n",
      "\n",
      "\n",
      "\n",
      "\n",
      "\n",
      "\n",
      "\n",
      "\n",
      "\n",
      "\n",
      "\n",
      "\n",
      "\n",
      "\n",
      "\n",
      "\n",
      "\n",
      "\n",
      "\n",
      "\n",
      "\n",
      "\n",
      "\n",
      "\n",
      "\n",
      "\n",
      "\n",
      "\n",
      "\n",
      "\n",
      "\n",
      "\n",
      "\n",
      "Skip to content\n",
      "\n",
      "\n",
      "\n",
      "\n",
      "\n",
      "\n",
      "UoJFoSLMSCS-SPMS\n",
      "\n",
      "\n",
      "\n",
      "\n",
      "\n",
      "\n",
      "\n",
      "\n",
      "\n",
      "\n",
      "\n",
      "\n",
      "\n",
      "\n",
      "\n",
      "\n",
      "\n",
      "\n",
      "\n",
      "\n",
      "\n",
      "\n",
      "Search...\n",
      "\n",
      "Submit search\n",
      "\n",
      "\n",
      "\n",
      "\n",
      "\n",
      "\n",
      "\n",
      "\n",
      "\n",
      "\n",
      "\n",
      "HomeAbout\n",
      "\n",
      "About Us New Building\n",
      "\n",
      "Overview Donations Photo Gallery \n",
      "\n",
      "DegreesSyllabus\n",
      "\n",
      "Direct-Intake Physical Science Applied Science\n",
      "Staff\n",
      "\n",
      "Present Staff Former Heads Former Staff Dept. meetings\n",
      "Students\n",
      "\n",
      "Direct Intake Physical Science MSc MPhil PhD\n",
      "Research\n",
      "\n",
      "Publications Undergraduate Research Projects Postgraduate Research Projects Grants Fellowships Dataset Google’s exploreCSR\n",
      "Awards\n",
      "\n",
      "Achievements Dean’s List Prizes\n",
      "\n",
      "Degree-based Level-based Staff-Prizes \n",
      "\n",
      "Activities\n",
      "\n",
      "Conferences/Workshops CS-Career Fair Industrial Visit Participations Outreach Activities TechTalk/Webinar Summer Schools\n",
      "\n",
      "GeSSoMI – 2024 IEEE SSCI – 2023 \n",
      "\n",
      "GalleryAlumni\n",
      "\n",
      "Members Enrollment Alumni Donations\n",
      "Contact UsToggle website search\n",
      "\n",
      "\n",
      "\n",
      "\n",
      "\n",
      "\n",
      "\n",
      "\n",
      "\n",
      "\n",
      "\n",
      "Menu\n",
      "Close\n",
      "\n",
      "\n",
      "\n",
      "\n",
      "Home\n",
      "About\n",
      "\n",
      "About Us\n",
      "New Building\n",
      "\n",
      "GeSSoMI – 2024\n",
      "IEEE SSCI – 2023\n",
      "\n",
      "\n",
      "\n",
      "\n",
      "Gallery\n",
      "Alumni\n",
      "\n",
      "Members\n",
      "Enrollment\n",
      "Alumni Donations\n",
      "\n",
      "\n",
      "Contact Us\n",
      "Toggle website searchUoJ\n",
      "FoS\n",
      "LMS\n",
      "CS-SPMS\n",
      "\n",
      "\n",
      "\n",
      "\n",
      "\n",
      " \n",
      "\n",
      "\n",
      "\n",
      "\n",
      "\n",
      "\n",
      "\n",
      "\n",
      "\n",
      "\n",
      "\n",
      "\n",
      "\n",
      "\n",
      "\n",
      "\n",
      "\n",
      "\n",
      "\n",
      "\n",
      "Computer Science – Batch 15Academic Year: 2019/2020Commenced: September 2021\n",
      "\n",
      "GeSSoMI – 2024 IEEE SSCI – 2023 \n",
      "\n",
      "GalleryAlumni\n",
      "\n",
      "Members Enrollment Alumni Donations\n",
      "Contact UsToggle website search\n",
      "\n",
      "\n",
      "\n",
      "\n",
      "\n",
      "\n",
      "\n",
      "\n",
      "\n",
      "\n",
      "\n",
      "Menu\n",
      "Close\n",
      "\n",
      "\n",
      "\n",
      "\n",
      "Home\n",
      "About\n",
      "\n",
      "About Us\n",
      "New Building\n",
      "\n",
      "Overview\n",
      "Donations\n",
      "Photo Gallery\n",
      "\n",
      "\n",
      "\n",
      "\n",
      "Degrees\n",
      "Syllabus\n",
      "\n",
      "Direct-Intake\n",
      "Physical Science\n",
      "Applied Science\n",
      "\n",
      "\n",
      "Staff\n",
      "\n",
      "Present Staff\n",
      "Former Heads\n",
      "Former Staff\n",
      "Dept. meetings\n",
      "\n",
      "\n",
      "Students\n",
      "\n",
      "Direct Intake\n",
      "Physical Science\n",
      "MSc\n",
      "MPhil\n",
      "PhD\n",
      "\n",
      "\n",
      "Research\n",
      "\n",
      "Publications\n",
      "Undergraduate Research Projects\n",
      "Postgraduate Research Projects\n",
      "Grants\n",
      "Fellowships\n",
      "Dataset\n",
      "Google’s exploreCSR\n",
      "\n",
      "\n",
      "Awards\n",
      "\n",
      "Achievements\n",
      "Dean’s List\n",
      "Prizes\n",
      "\n",
      "Degree-based\n",
      "Level-based\n",
      "Staff-Prizes\n",
      "\n",
      "\n",
      "\n",
      "\n",
      "Activities\n",
      "\n",
      "Conferences/Workshops\n",
      "CS-Career Fair\n",
      "Industrial Visit\n",
      "Participations\n",
      "Outreach Activities\n",
      "TechTalk/Webinar\n",
      "Summer Schools\n",
      "\n",
      "GeSSoMI – 2024\n",
      "IEEE SSCI – 2023\n",
      "\n",
      "\n",
      "\n",
      "\n",
      "Gallery\n",
      "Alumni\n",
      "\n",
      "Members\n",
      "Enrollment\n",
      "Alumni Donations\n",
      "\n",
      "\n",
      "Contact Us\n",
      "Toggle website searchUoJ\n",
      "FoS\n",
      "LMS\n",
      "CS-SPMS\n",
      "\n",
      "Contact InfoHead,\n",
      "Department of Computer Science,\n",
      "Faculty of Science,\n",
      "University of Jaffna,\n",
      "Jaffna,\n",
      "Sri LankaPhone:021 221 8194Email:dcs@univ.jfn.ac.lkOpens in your application\n",
      "istanbul escort\n",
      "ataköy escort\n",
      "kadıköy escort\n",
      "şişli escort\n",
      "istanbul escorts\n",
      "\n",
      " \n",
      "\n",
      "Supportive FacilitiesThe Main Library\n",
      "The Computer Unit\n",
      "Physical Education Unit\n",
      "Centre for Gender Equity & Equality\n",
      "Ragging Complaint\n",
      "The Health Centre\n",
      "Hostels\n",
      "Student Counsellor Office\n",
      "Right to Information\n",
      " \n",
      "\n",
      "Information Management SystemsLMS\n",
      "FOS-EMS\n",
      "CS-SAMS\n",
      "CS-SPMS\n",
      "Y-Bridge\n",
      "Apps@UoJ\n",
      " \n",
      "\n",
      "Useful LinksLecture Timetables\n",
      "Calendar of Dates\n",
      "Student Handbooks\n",
      "Online resources\n",
      "Common Guidelines on Student Discipline\n",
      "Study Programme Prospectus (Direct Intake)\n",
      "Pre-University Programmes\n",
      " \n",
      "\n",
      "\n",
      "\n",
      "\n",
      "\n",
      "\t\t\t\t©2021 DEPARTMENT OF COMPUTER SCIENCE ALL RIGHTS RESERVED UNIVERSITY OF JAFFNA\u001b[0m\u001b[32;1m\u001b[1;3mI am sorry, I cannot fulfill this request. I do not have access to a list of student names for the academic year 2019/2020. The information I found only confirms the commencement date of the batch 15 as September 2021.\u001b[0m\n",
      "\n",
      "\u001b[1m> Finished chain.\u001b[0m\n"
     ]
    },
    {
     "data": {
      "text/plain": [
       "{'input': 'Tell me about few names of university of jaffna computer science students Academic Year: 2019/2020',\n",
       " 'output': 'I am sorry, I cannot fulfill this request. I do not have access to a list of student names for the academic year 2019/2020. The information I found only confirms the commencement date of the batch 15 as September 2021.'}"
      ]
     },
     "execution_count": 90,
     "metadata": {},
     "output_type": "execute_result"
    }
   ],
   "source": [
    "agent_executer.invoke({\"input\":\"Tell me about few names of university of jaffna computer science students Academic Year: 2019/2020\"})"
   ]
  },
  {
   "cell_type": "code",
   "execution_count": 91,
   "metadata": {},
   "outputs": [
    {
     "name": "stdout",
     "output_type": "stream",
     "text": [
      "\n",
      "\n",
      "\u001b[1m> Entering new AgentExecutor chain...\u001b[0m\n",
      "\u001b[32;1m\u001b[1;3m\n",
      "Invoking: `wikipedia` with `{'query': 'Machine Learning'}`\n",
      "\n",
      "\n",
      "\u001b[0m\u001b[36;1m\u001b[1;3mPage: Machine learning\n",
      "Summary: Machine learning (ML) is a field of study in artificial intelligence concerned with the development and study of statistical algorithms that can learn from data and gen\u001b[0m\u001b[32;1m\u001b[1;3mMachine learning (ML) is a field of study in artificial intelligence concerned with the development and study of statistical algorithms that can learn from data.\u001b[0m\n",
      "\n",
      "\u001b[1m> Finished chain.\u001b[0m\n"
     ]
    },
    {
     "data": {
      "text/plain": [
       "{'input': 'Tell me about Machine Learning',\n",
       " 'output': 'Machine learning (ML) is a field of study in artificial intelligence concerned with the development and study of statistical algorithms that can learn from data.'}"
      ]
     },
     "execution_count": 91,
     "metadata": {},
     "output_type": "execute_result"
    }
   ],
   "source": [
    "agent_executer.invoke({\"input\":\"Tell me about Machine Learning\"})"
   ]
  },
  {
   "cell_type": "code",
   "execution_count": null,
   "metadata": {},
   "outputs": [],
   "source": []
  }
 ],
 "metadata": {
  "kernelspec": {
   "display_name": "venv",
   "language": "python",
   "name": "python3"
  },
  "language_info": {
   "codemirror_mode": {
    "name": "ipython",
    "version": 3
   },
   "file_extension": ".py",
   "mimetype": "text/x-python",
   "name": "python",
   "nbconvert_exporter": "python",
   "pygments_lexer": "ipython3",
   "version": "3.12.6"
  }
 },
 "nbformat": 4,
 "nbformat_minor": 2
}
